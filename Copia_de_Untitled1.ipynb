{
  "nbformat": 4,
  "nbformat_minor": 0,
  "metadata": {
    "colab": {
      "provenance": [],
      "authorship_tag": "ABX9TyP708VnqZ5oC+GRCK2f33pt",
      "include_colab_link": true
    },
    "kernelspec": {
      "name": "python3",
      "display_name": "Python 3"
    },
    "language_info": {
      "name": "python"
    }
  },
  "cells": [
    {
      "cell_type": "markdown",
      "metadata": {
        "id": "view-in-github",
        "colab_type": "text"
      },
      "source": [
        "<a href=\"https://colab.research.google.com/github/Milmillones/leccion-4/blob/main/Copia_de_Untitled1.ipynb\" target=\"_parent\"><img src=\"https://colab.research.google.com/assets/colab-badge.svg\" alt=\"Open In Colab\"/></a>"
      ]
    },
    {
      "cell_type": "code",
      "source": [
        "import math\n",
        "numero_x=float(input(\"ingrese su numero x: \"))\n",
        "numero_y=float(input(\"ingrese su numero y: \"))\n",
        "diana=math.sqrt(numero_x**2+numero_y**2)\n",
        "\n",
        "if diana<=1:\n",
        "   puntaje=10\n",
        "elif diana<=5:\n",
        "  puntaje=5\n",
        "elif diana<=10:\n",
        "  puntaje=1\n",
        "else:\n",
        "  puntaje=0\n",
        "print(\"su puntaje es:\",puntaje)\n"
      ],
      "metadata": {
        "colab": {
          "base_uri": "https://localhost:8080/"
        },
        "id": "ZUZon_WbhKPq",
        "outputId": "e9eacea8-2b0e-4862-cae7-6a4eae237afb"
      },
      "execution_count": null,
      "outputs": [
        {
          "output_type": "stream",
          "name": "stdout",
          "text": [
            "ingrese su numero x: 1\n",
            "ingrese su numero y: 2\n",
            "su puntaje es: 5\n"
          ]
        }
      ]
    }
  ]
}